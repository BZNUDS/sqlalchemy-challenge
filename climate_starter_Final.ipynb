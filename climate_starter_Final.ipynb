{
 "cells": [
  {
   "cell_type": "code",
   "execution_count": 1,
   "metadata": {},
   "outputs": [],
   "source": [
    "import matplotlib\n",
    "from matplotlib import style\n",
    "style.use('fivethirtyeight')\n",
    "import matplotlib.pyplot as plt"
   ]
  },
  {
   "cell_type": "code",
   "execution_count": 2,
   "metadata": {},
   "outputs": [],
   "source": [
    "import numpy as np\n",
    "import pandas as pd\n",
    "import datetime as dt\n",
    "from dateutil.relativedelta import relativedelta"
   ]
  },
  {
   "cell_type": "markdown",
   "metadata": {},
   "source": [
    "# Reflect Tables into SQLAlchemy ORM"
   ]
  },
  {
   "cell_type": "code",
   "execution_count": 3,
   "metadata": {},
   "outputs": [],
   "source": [
    "# Python SQL toolkit and Object Relational Mapper\n",
    "import sqlalchemy\n",
    "from sqlalchemy.ext.automap import automap_base\n",
    "from sqlalchemy.orm import Session\n",
    "from sqlalchemy import create_engine, func\n",
    "from sqlalchemy import distinct"
   ]
  },
  {
   "cell_type": "code",
   "execution_count": 4,
   "metadata": {},
   "outputs": [],
   "source": [
    "# create engine to hawaii.sqlite (BZ had to add Resources/)\n",
    "engine = create_engine(\"sqlite:///Resources/hawaii.sqlite\")"
   ]
  },
  {
   "cell_type": "code",
   "execution_count": 5,
   "metadata": {},
   "outputs": [],
   "source": [
    "# reflect an existing database into a new model\n",
    "# Declare a Base using `automap_base()`\n",
    "Base = automap_base()\n",
    "\n",
    "# reflect the tables\n",
    "# Use the Base class to reflect the database tables\n",
    "Base.prepare(engine, reflect=True)"
   ]
  },
  {
   "cell_type": "code",
   "execution_count": 6,
   "metadata": {},
   "outputs": [
    {
     "data": {
      "text/plain": [
       "['measurement', 'station']"
      ]
     },
     "execution_count": 6,
     "metadata": {},
     "output_type": "execute_result"
    }
   ],
   "source": [
    "# View all of the classes that automap found\n",
    "# Print all of the classes mapped to the Base\n",
    "Base.classes.keys() "
   ]
  },
  {
   "cell_type": "code",
   "execution_count": 7,
   "metadata": {},
   "outputs": [
    {
     "name": "stdout",
     "output_type": "stream",
     "text": [
      "Measurement: <class 'sqlalchemy.ext.automap.measurement'>\n",
      "Station: <class 'sqlalchemy.ext.automap.station'>\n"
     ]
    }
   ],
   "source": [
    "# Save references to each table\n",
    "# Assign the measurement class to a variable called `Measurement`\n",
    "# Assign the station class to a variable called `Station`\n",
    "Measurement = Base.classes.measurement\n",
    "Station = Base.classes.station\n",
    "print(f'Measurement: {Measurement}')\n",
    "print(f'Station: {Station}')"
   ]
  },
  {
   "cell_type": "code",
   "execution_count": 8,
   "metadata": {},
   "outputs": [],
   "source": [
    "# Create our session (link) from Python to the DB\n",
    "# Create a session\n",
    "session = Session(engine)"
   ]
  },
  {
   "cell_type": "code",
   "execution_count": 9,
   "metadata": {},
   "outputs": [
    {
     "name": "stdout",
     "output_type": "stream",
     "text": [
      "Display the Measurements first row's columns and data in dictionary format: {'_sa_instance_state': <sqlalchemy.orm.state.InstanceState object at 0x00000294F8218760>, 'prcp': 0.08, 'id': 1, 'station': 'USC00519397', 'date': '2010-01-01', 'tobs': 65.0}\n",
      "\n",
      "Display the Stations first row's columns and data in dictionary format: {'_sa_instance_state': <sqlalchemy.orm.state.InstanceState object at 0x00000294F8204610>, 'station': 'USC00519397', 'name': 'WAIKIKI 717.2, HI US', 'longitude': -157.8168, 'id': 1, 'latitude': 21.2716, 'elevation': 3.0}\n",
      "\n"
     ]
    }
   ],
   "source": [
    "# Display the row's columns and data in dictionary format\n",
    "# Used Lesson plan 10.2.5 (solved solution) as my reference for what is meant by \"Display the row's columns and data in dictionary format\"  \n",
    "\n",
    "# Use the session to query the Measurement table and display the row's columns and data in dictionary format\n",
    "M=Measurement\n",
    "Measurement_row = session.query(M).first()\n",
    "print(f\"Display the Measurements first row's columns and data in dictionary format: {Measurement_row.__dict__}\")\n",
    "print()\n",
    "\n",
    "# Close Session\n",
    "session.close()\n",
    "# for row in session.query(M.date, M.tobs, M.id, M.station, M.prcp).all():\n",
    "#     print(row)\n",
    "# print()\n",
    "# print()\n",
    "\n",
    "# Use the session to query the Stations table and display the row's columns and data in dictionary format\n",
    "S=Station\n",
    "Station_row = session.query(S).first()\n",
    "\n",
    "# Close Session\n",
    "session.close()\n",
    "\n",
    "print(f\"Display the Stations first row's columns and data in dictionary format: {Station_row.__dict__}\")\n",
    "print()\n",
    "# for row in session.query(S.id, S.longitude, S.latitude, S.station, S.name, S.elevation).all():\n",
    "#     print(row)"
   ]
  },
  {
   "cell_type": "markdown",
   "metadata": {},
   "source": [
    "# Exploratory Precipitation Analysis"
   ]
  },
  {
   "cell_type": "code",
   "execution_count": 10,
   "metadata": {},
   "outputs": [
    {
     "name": "stdout",
     "output_type": "stream",
     "text": [
      "Most recent date in the data set (maximum_date): 2017-08-23\n",
      "Date for 12 months prior (minimun_date): 2016-08-23\n",
      "\n"
     ]
    }
   ],
   "source": [
    "# Find the most recent date in the data set.\n",
    "# Found Lesson 10.2.9 helpful for this part (09-Par_EmojiPlotting)\n",
    "\n",
    "results = session.query(M.date, M.tobs, M.id, M.station, M.prcp).\\\n",
    "    order_by(M.date.desc()).all()\n",
    "# print(f'results: {results}')\n",
    "\n",
    "# Close Session\n",
    "session.close()\n",
    "\n",
    "max_date = [result[0] for result in results[:1]]\n",
    "print(f'Most recent date in the data set (maximum_date): {max_date[0:1][0]}')\n",
    "\n",
    "# Calculate the date one year from the last date in data set.\n",
    "min_date = dt.date(int(max_date[0][0:4]), int(max_date[0][5:7]), int(max_date[0][8:10]))  - relativedelta(months=12)\n",
    "\n",
    "print(f'Date for 12 months prior (minimun_date): {min_date}')\n",
    "print()\n"
   ]
  },
  {
   "cell_type": "code",
   "execution_count": 11,
   "metadata": {},
   "outputs": [
    {
     "data": {
      "image/png": "[encoded data removed]",
      "text/plain": [
       "<Figure size 432x288 with 1 Axes>"
      ]
     },
     "metadata": {
      "needs_background": "light"
     },
     "output_type": "display_data"
    }
   ],
   "source": [
    "# Design a query to retrieve the last 12 months of precipitation data and plot the results. \n",
    "# Starting from the most recent data point in the database. \n",
    "\n",
    "\n",
    "# Perform a query to retrieve the date and precipitation scores\n",
    "date_prcp = session.query(M.date, func.sum(M.prcp)).\\\n",
    "     group_by(M.date).\\\n",
    "     filter(M.date >= min_date).all()\n",
    "\n",
    "date = [date_prcp[0] for date_prcp in date_prcp]\n",
    "prcp = [date_prcp[1] for date_prcp in date_prcp]\n",
    "\n",
    "# print(f'date_prcp: {date_prcp}')\n",
    "# print()\n",
    "\n",
    "# Close Session\n",
    "session.close()\n",
    "\n",
    "\n",
    "# Save the query results as a Pandas DataFrame and set the index to the date column\n",
    "df = pd.DataFrame(date_prcp, columns=['Date', 'Percipitation'])\n",
    "# print(f'df:{df}')\n",
    "# print()\n",
    "df.set_index('Date', inplace=True)\n",
    "\n",
    "\n",
    "# Sort the dataframe by date\n",
    "df.sort_values(by='Date', ascending=False)\n",
    "    \n",
    "\n",
    "# Determine the tick marks needed for the plot \n",
    "date_ticks=[]\n",
    "tick_locations=[]\n",
    "i = 0\n",
    "# print(len(df))\n",
    "while i < len(df):\n",
    "    # print(f'df.index[i]: {df.index[i]}')\n",
    "    #print(df[i:i+1][0:1])\n",
    "    date_ticks.append(df.index[i])\n",
    "    tick_locations.append(i)\n",
    "    i = i + 37\n",
    "\n",
    "\n",
    "# Set labels, tick locations and show plot\n",
    "x_axis = np.arange(0, len(df))\n",
    "\n",
    "\n",
    "df.plot.bar(width = 3) \n",
    "plt.xlabel(\"Date\", fontdict=None, labelpad=None)\n",
    "plt.ylabel(\"Inches\", fontdict=None, labelpad=None)\n",
    "plt.tight_layout()\n",
    "plt.xticks(np.arange(0, len(df), 37))\n",
    "plt.show()\n"
   ]
  },
  {
   "cell_type": "code",
   "execution_count": 12,
   "metadata": {},
   "outputs": [
    {
     "data": {
      "text/html": [
       "<div>\n",
       "<style scoped>\n",
       "    .dataframe tbody tr th:only-of-type {\n",
       "        vertical-align: middle;\n",
       "    }\n",
       "\n",
       "    .dataframe tbody tr th {\n",
       "        vertical-align: top;\n",
       "    }\n",
       "\n",
       "    .dataframe thead th {\n",
       "        text-align: right;\n",
       "    }\n",
       "</style>\n",
       "<table border=\"1\" class=\"dataframe\">\n",
       "  <thead>\n",
       "    <tr style=\"text-align: right;\">\n",
       "      <th></th>\n",
       "      <th>Percipitation</th>\n",
       "    </tr>\n",
       "  </thead>\n",
       "  <tbody>\n",
       "    <tr>\n",
       "      <th>count</th>\n",
       "      <td>366.000000</td>\n",
       "    </tr>\n",
       "    <tr>\n",
       "      <th>mean</th>\n",
       "      <td>0.978907</td>\n",
       "    </tr>\n",
       "    <tr>\n",
       "      <th>std</th>\n",
       "      <td>1.776349</td>\n",
       "    </tr>\n",
       "    <tr>\n",
       "      <th>min</th>\n",
       "      <td>0.000000</td>\n",
       "    </tr>\n",
       "    <tr>\n",
       "      <th>25%</th>\n",
       "      <td>0.052500</td>\n",
       "    </tr>\n",
       "    <tr>\n",
       "      <th>50%</th>\n",
       "      <td>0.405000</td>\n",
       "    </tr>\n",
       "    <tr>\n",
       "      <th>75%</th>\n",
       "      <td>1.087500</td>\n",
       "    </tr>\n",
       "    <tr>\n",
       "      <th>max</th>\n",
       "      <td>14.280000</td>\n",
       "    </tr>\n",
       "  </tbody>\n",
       "</table>\n",
       "</div>"
      ],
      "text/plain": [
       "       Percipitation\n",
       "count     366.000000\n",
       "mean        0.978907\n",
       "std         1.776349\n",
       "min         0.000000\n",
       "25%         0.052500\n",
       "50%         0.405000\n",
       "75%         1.087500\n",
       "max        14.280000"
      ]
     },
     "execution_count": 12,
     "metadata": {},
     "output_type": "execute_result"
    }
   ],
   "source": [
    "# Use Pandas to calcualte the summary statistics for the precipitation data\n",
    "df.describe(include='all')\n"
   ]
  },
  {
   "cell_type": "markdown",
   "metadata": {},
   "source": [
    "# Exploratory Station Analysis"
   ]
  },
  {
   "cell_type": "code",
   "execution_count": 13,
   "metadata": {},
   "outputs": [
    {
     "name": "stdout",
     "output_type": "stream",
     "text": [
      "Total number of stations in the dataset: 9\n",
      "\n"
     ]
    }
   ],
   "source": [
    "# Design a query to calculate the total number stations in the dataset\n",
    "\n",
    "# Create our session (link) from Python to the DB\n",
    "session = Session(engine)\n",
    "\n",
    "# Close Session\n",
    "session.close()\n",
    "\n",
    "M=Measurement\n",
    "distinct_stations = session.query(func.count(distinct(M.station))).all()\n",
    "print(f'Total number of stations in the dataset: {distinct_stations[0][0]}')\n",
    "print()"
   ]
  },
  {
   "cell_type": "code",
   "execution_count": 14,
   "metadata": {},
   "outputs": [
    {
     "name": "stdout",
     "output_type": "stream",
     "text": [
      "Most active station: USC00519281\n",
      "\n"
     ]
    },
    {
     "data": {
      "text/html": [
       "<div>\n",
       "<style scoped>\n",
       "    .dataframe tbody tr th:only-of-type {\n",
       "        vertical-align: middle;\n",
       "    }\n",
       "\n",
       "    .dataframe tbody tr th {\n",
       "        vertical-align: top;\n",
       "    }\n",
       "\n",
       "    .dataframe thead th {\n",
       "        text-align: right;\n",
       "    }\n",
       "</style>\n",
       "<table border=\"1\" class=\"dataframe\">\n",
       "  <thead>\n",
       "    <tr style=\"text-align: right;\">\n",
       "      <th></th>\n",
       "      <th>Station</th>\n",
       "      <th>Counts</th>\n",
       "    </tr>\n",
       "  </thead>\n",
       "  <tbody>\n",
       "    <tr>\n",
       "      <th>0</th>\n",
       "      <td>USC00519281</td>\n",
       "      <td>2772</td>\n",
       "    </tr>\n",
       "    <tr>\n",
       "      <th>1</th>\n",
       "      <td>USC00513117</td>\n",
       "      <td>2696</td>\n",
       "    </tr>\n",
       "    <tr>\n",
       "      <th>2</th>\n",
       "      <td>USC00519397</td>\n",
       "      <td>2685</td>\n",
       "    </tr>\n",
       "    <tr>\n",
       "      <th>3</th>\n",
       "      <td>USC00519523</td>\n",
       "      <td>2572</td>\n",
       "    </tr>\n",
       "    <tr>\n",
       "      <th>4</th>\n",
       "      <td>USC00516128</td>\n",
       "      <td>2484</td>\n",
       "    </tr>\n",
       "    <tr>\n",
       "      <th>5</th>\n",
       "      <td>USC00514830</td>\n",
       "      <td>1937</td>\n",
       "    </tr>\n",
       "    <tr>\n",
       "      <th>6</th>\n",
       "      <td>USC00511918</td>\n",
       "      <td>1932</td>\n",
       "    </tr>\n",
       "    <tr>\n",
       "      <th>7</th>\n",
       "      <td>USC00517948</td>\n",
       "      <td>683</td>\n",
       "    </tr>\n",
       "    <tr>\n",
       "      <th>8</th>\n",
       "      <td>USC00518838</td>\n",
       "      <td>342</td>\n",
       "    </tr>\n",
       "  </tbody>\n",
       "</table>\n",
       "</div>"
      ],
      "text/plain": [
       "       Station  Counts\n",
       "0  USC00519281    2772\n",
       "1  USC00513117    2696\n",
       "2  USC00519397    2685\n",
       "3  USC00519523    2572\n",
       "4  USC00516128    2484\n",
       "5  USC00514830    1937\n",
       "6  USC00511918    1932\n",
       "7  USC00517948     683\n",
       "8  USC00518838     342"
      ]
     },
     "execution_count": 14,
     "metadata": {},
     "output_type": "execute_result"
    }
   ],
   "source": [
    "# Design a query to find the most active stations (i.e. what stations have the most rows?)\n",
    "# List the stations and the counts in descending order.\n",
    "# Found Lesson 10.3.11 (Stu_Chinook) helpful for this part \n",
    "active_stations = session.query(M.station, func.count(M.prcp)).\\\n",
    "     group_by(M.station).\\\n",
    "     order_by(func.count(M.prcp).desc()).all()\n",
    "\n",
    "# Close Session\n",
    "session.close()\n",
    "\n",
    "# print(f'active_stations: {active_stations}')\n",
    "most_active = active_stations[0][0]\n",
    "print(f'Most active station: {most_active}')\n",
    "print()\n",
    "\n",
    "\n",
    "station = [active_stations[0] for active_stations in active_stations]\n",
    "counts = [active_stations[1] for active_stations in active_stations]\n",
    "\n",
    "# Save the query results as a Pandas DataFrame and set the index to the date column\n",
    "station_counts_df = pd.DataFrame(active_stations, columns=['Station', 'Counts'])\n",
    "station_counts_df"
   ]
  },
  {
   "cell_type": "code",
   "execution_count": 15,
   "metadata": {},
   "outputs": [
    {
     "name": "stdout",
     "output_type": "stream",
     "text": [
      "Most active station: USC00519281\n",
      "\n",
      "max_date: ['2017-08-23']\n",
      "Minimun Date:  2016-08-23\n",
      "\n"
     ]
    }
   ],
   "source": [
    "# Using the most active station id from the previous query, calculate the lowest, highest, and average temperature.\n",
    "\n",
    "print(f'Most active station: {most_active}')\n",
    "print()\n",
    "\n",
    "\n",
    "max_date = [result[0] for result in results[:1]]\n",
    "print(f'max_date: {max_date[0:1]}')\n",
    "\n",
    "# Calculate the date one year from the last date in data set.\n",
    "min_date = dt.date(int(max_date[0][0:4]), int(max_date[0][5:7]), int(max_date[0][8:10])) - dt.timedelta(days=365)\n",
    "print(\"Minimun Date: \", min_date)\n",
    "print()"
   ]
  },
  {
   "cell_type": "code",
   "execution_count": 16,
   "metadata": {},
   "outputs": [
    {
     "name": "stdout",
     "output_type": "stream",
     "text": [
      "Most active station: USC00519281\n",
      "\n",
      "Maximun Date:  2017-08-23\n",
      "Minimun Date:  2016-08-23\n",
      "\n"
     ]
    },
    {
     "data": {
      "text/plain": [
       "Text(0.5, 0, 'Temperature')"
      ]
     },
     "execution_count": 16,
     "metadata": {},
     "output_type": "execute_result"
    },
    {
     "data": {
      "image/png": "[encoded data removed]",
      "text/plain": [
       "<Figure size 432x288 with 1 Axes>"
      ]
     },
     "metadata": {
      "needs_background": "light"
     },
     "output_type": "display_data"
    }
   ],
   "source": [
    "# Using the most active station id\n",
    "# Query the last 12 months of temperature observation data for this station and plot the results as a histogram\n",
    "print(f'Most active station: {most_active}')\n",
    "print()\n",
    "\n",
    "print(\"Maximun Date: \", max_date[0:1][0])\n",
    "print(\"Minimun Date: \", min_date)\n",
    "print()\n",
    "\n",
    "# sel = [M.date, \n",
    "#        func.min(M.tobs), \n",
    "#        func.max(M.tobs),\n",
    "#        func.avg(M.tobs)]\n",
    "# min_max_avg = session.query(*sel).\\\n",
    "#     filter(M.date >= min_date).\\\n",
    "#     group_by(M.date).\\\n",
    "#     order_by((M.date).desc()).all()\n",
    "\n",
    "# # Close Session\n",
    "# session.close()  \n",
    "\n",
    "# print(f'min_max_avg: {min_max_avg}')\n",
    "# print()\n",
    "\n",
    "tobs_results = session.query(M.date,M.tobs).\\\n",
    "    filter(M.station == most_active).\\\n",
    "    filter(M.date >= min_date).\\\n",
    "    order_by(M.date.desc()).all()\n",
    "\n",
    "# Close Session\n",
    "session.close()\n",
    "\n",
    "# print(f'tobs_results: {tobs_results}')\n",
    "# print()\n",
    "\n",
    "df = pd.DataFrame(tobs_results, columns=['Date', 'Temp'])\n",
    "#df.set_index('Date', inplace=True)\n",
    "# print(f'df: {df}')\n",
    "# print()\n",
    "\n",
    "# Plot Histogram\n",
    "df.plot.hist(by= 'Date', bins=12, color=\"blue\", alpha=0.6)\n",
    "plt.xlabel(\"Temperature\")\n"
   ]
  },
  {
   "cell_type": "code",
   "execution_count": 17,
   "metadata": {},
   "outputs": [],
   "source": [
    "# Close Session (this last one per starter.ipynb)\n",
    "session.close()"
   ]
  }
 ],
 "metadata": {
  "anaconda-cloud": {},
  "kernel_info": {
   "name": "python3"
  },
  "kernelspec": {
   "display_name": "Python 3 (ipykernel)",
   "language": "python",
   "name": "python3"
  },
  "language_info": {
   "codemirror_mode": {
    "name": "ipython",
    "version": 3
   },
   "file_extension": ".py",
   "mimetype": "text/x-python",
   "name": "python",
   "nbconvert_exporter": "python",
   "pygments_lexer": "ipython3",
   "version": "3.9.7"
  },
  "nteract": {
   "version": "0.12.3"
  },
  "varInspector": {
   "cols": {
    "lenName": 16,
    "lenType": 16,
    "lenVar": 40
   },
   "kernels_config": {
    "python": {
     "delete_cmd_postfix": "",
     "delete_cmd_prefix": "del ",
     "library": "var_list.py",
     "varRefreshCmd": "print(var_dic_list())"
    },
    "r": {
     "delete_cmd_postfix": ") ",
     "delete_cmd_prefix": "rm(",
     "library": "var_list.r",
     "varRefreshCmd": "cat(var_dic_list()) "
    }
   },
   "types_to_exclude": [
    "module",
    "function",
    "builtin_function_or_method",
    "instance",
    "_Feature"
   ],
   "window_display": false
  }
 },
 "nbformat": 4,
 "nbformat_minor": 2
}
