{
 "cells": [
  {
   "cell_type": "code",
   "execution_count": 1,
   "metadata": {},
   "outputs": [],
   "source": [
    "%matplotlib inline\n",
    "from matplotlib import style\n",
    "style.use('fivethirtyeight')\n",
    "import matplotlib.pyplot as plt"
   ]
  },
  {
   "cell_type": "code",
   "execution_count": 2,
   "metadata": {},
   "outputs": [],
   "source": [
    "import numpy as np\n",
    "import pandas as pd\n",
    "import datetime as dt"
   ]
  },
  {
   "cell_type": "markdown",
   "metadata": {},
   "source": [
    "# Reflect Tables into SQLAlchemy ORM"
   ]
  },
  {
   "cell_type": "code",
   "execution_count": 3,
   "metadata": {},
   "outputs": [],
   "source": [
    "# Python SQL toolkit and Object Relational Mapper\n",
    "import sqlalchemy\n",
    "from sqlalchemy.ext.automap import automap_base\n",
    "from sqlalchemy.orm import Session\n",
    "from sqlalchemy import create_engine, func\n"
   ]
  },
  {
   "cell_type": "code",
   "execution_count": 4,
   "metadata": {},
   "outputs": [],
   "source": [
    "# create engine to hawaii.sqlite (BZ had to add Resources/)\n",
    "engine = create_engine(\"sqlite:///Resources/hawaii.sqlite\")"
   ]
  },
  {
   "cell_type": "code",
   "execution_count": 5,
   "metadata": {},
   "outputs": [],
   "source": [
    "# reflect an existing database into a new model\n",
    "# Declare a Base using `automap_base()`\n",
    "Base = automap_base()\n",
    "\n",
    "# reflect the tables\n",
    "# Use the Base class to reflect the database tables\n",
    "Base.prepare(engine, reflect=True)"
   ]
  },
  {
   "cell_type": "code",
   "execution_count": 6,
   "metadata": {},
   "outputs": [
    {
     "data": {
      "text/plain": [
       "['measurement', 'station']"
      ]
     },
     "execution_count": 6,
     "metadata": {},
     "output_type": "execute_result"
    }
   ],
   "source": [
    "# View all of the classes that automap found\n",
    "# Print all of the classes mapped to the Base\n",
    "Base.classes.keys() "
   ]
  },
  {
   "cell_type": "code",
   "execution_count": 20,
   "metadata": {},
   "outputs": [
    {
     "name": "stdout",
     "output_type": "stream",
     "text": [
      "Measurement: <class 'sqlalchemy.ext.automap.measurement'>\n",
      "Station: <class 'sqlalchemy.ext.automap.station'>\n"
     ]
    }
   ],
   "source": [
    "# Save references to each table\n",
    "# Assign the dow class to a variable called `Dow`\n",
    "Measurement = Base.classes.measurement\n",
    "Station = Base.classes.station\n",
    "print(f'Measurement: {Measurement}')\n",
    "print(f'Station: {Station}')"
   ]
  },
  {
   "cell_type": "code",
   "execution_count": 48,
   "metadata": {},
   "outputs": [],
   "source": [
    "# Create our session (link) from Python to the DB\n",
    "# Create a session\n",
    "session = Session(engine)"
   ]
  },
  {
   "cell_type": "code",
   "execution_count": null,
   "metadata": {},
   "outputs": [],
   "source": []
  },
  {
   "cell_type": "code",
   "execution_count": 97,
   "metadata": {},
   "outputs": [
    {
     "name": "stdout",
     "output_type": "stream",
     "text": [
      "Measurement_row.__dict__: {'_sa_instance_state': <sqlalchemy.orm.state.InstanceState object at 0x0000025DA2E06D00>, 'date': '2010-01-01', 'tobs': 65.0, 'id': 1, 'station': 'USC00519397', 'prcp': 0.08}\n",
      "('2010-01-01', 65.0, 1, 'USC00519397', 0.08)\n",
      "('2010-01-02', 63.0, 2, 'USC00519397', 0.0)\n",
      "('2010-01-03', 74.0, 3, 'USC00519397', 0.0)\n",
      "('2010-01-04', 76.0, 4, 'USC00519397', 0.0)\n",
      "('2010-01-06', 73.0, 5, 'USC00519397', None)\n",
      "('2010-01-07', 70.0, 6, 'USC00519397', 0.06)\n",
      "('2010-01-08', 64.0, 7, 'USC00519397', 0.0)\n",
      "('2010-01-09', 68.0, 8, 'USC00519397', 0.0)\n",
      "('2010-01-10', 73.0, 9, 'USC00519397', 0.0)\n",
      "('2010-01-11', 64.0, 10, 'USC00519397', 0.01)\n",
      "Station_row.__dict__: {'_sa_instance_state': <sqlalchemy.orm.state.InstanceState object at 0x0000025DA6FFC100>, 'id': 1, 'longitude': -157.8168, 'latitude': 21.2716, 'station': 'USC00519397', 'name': 'WAIKIKI 717.2, HI US', 'elevation': 3.0}\n",
      "(1, -157.8168, 21.2716, 'USC00519397', 'WAIKIKI 717.2, HI US', 3.0)\n",
      "(2, -157.8015, 21.4234, 'USC00513117', 'KANEOHE 838.1, HI US', 14.6)\n",
      "(3, -157.8374, 21.5213, 'USC00514830', 'KUALOA RANCH HEADQUARTERS 886.9, HI US', 7.0)\n"
     ]
    }
   ],
   "source": [
    "# Display the row's columns and data in dictionary format\n",
    "# Use the session to query Measurement table and display the row's columns and data in dictionary format\n",
    "M=Measurement\n",
    "Measurement_row = session.query(M).first()\n",
    "print(f'Measurement_row.__dict__: {Measurement_row.__dict__}')\n",
    "\n",
    "for row in session.query(M.date, M.tobs, M.id, M.station, M.prcp).limit(10).all():\n",
    "    print(row)\n",
    "    \n",
    "S=Station\n",
    "Station_row = session.query(S).first()\n",
    "print(f'Station_row.__dict__: {Station_row.__dict__}')\n",
    "\n",
    "for row in session.query(S.id, S.longitude, S.latitude, S.station, S.name, S.elevation).limit(3).all():\n",
    "    print(row)"
   ]
  },
  {
   "cell_type": "markdown",
   "metadata": {},
   "source": [
    "# Exploratory Precipitation Analysis"
   ]
  },
  {
   "cell_type": "code",
   "execution_count": 180,
   "metadata": {},
   "outputs": [
    {
     "name": "stdout",
     "output_type": "stream",
     "text": [
      "most_recent_date[0]:  2017-08-23\n",
      "\n",
      "Minimun Date:  2016-08-23\n",
      "\n"
     ]
    }
   ],
   "source": [
    "# Find the most recent date in the data set.\n",
    "# Found Lesson 10.2.9 helpful for this part (09-Par_EmojiPlotting)\n",
    "\n",
    "# max_date = [result[0] for result in results[:1]]\n",
    "# print(f'max_date: {max_date[0:1]}')\n",
    "\n",
    "# Calculate the date one year from the last date in data set.\n",
    "most_recent_date = max(results)\n",
    "print(\"most_recent_date[0]: \", most_recent_date[0])\n",
    "print()\n",
    "min_date = dt.date(int(max_date[0][0:4]), int(max_date[0][5:7]), int(max_date[0][8:10])) - dt.timedelta(days=365)\n",
    "print(\"Minimun Date: \", min_date)\n",
    "print()\n"
   ]
  },
  {
   "cell_type": "code",
   "execution_count": 208,
   "metadata": {},
   "outputs": [
    {
     "name": "stdout",
     "output_type": "stream",
     "text": [
      "date_prcp: [('2016-08-23', 0.0), ('2016-08-24', 0.08), ('2016-08-25', 0.08), ('2016-08-26', 0.0), ('2016-08-27', 0.0), ('2016-08-28', 0.01), ('2016-08-29', 0.0), ('2016-08-30', 0.0), ('2016-08-31', 0.13), ('2016-09-01', 0.0)]\n",
      "\n",
      "\n",
      "date: ['2016-08-23', '2016-08-24', '2016-08-25', '2016-08-26', '2016-08-27', '2016-08-28', '2016-08-29', '2016-08-30', '2016-08-31', '2016-09-01']\n",
      "\n",
      "\n",
      "prcp: [0.0, 0.08, 0.08, 0.0, 0.0, 0.01, 0.0, 0.0, 0.13, 0.0]\n",
      "\n",
      "\n",
      "df:         Date  Percipitation\n",
      "0  2016-08-23           0.00\n",
      "1  2016-08-24           0.08\n",
      "2  2016-08-25           0.08\n",
      "3  2016-08-26           0.00\n",
      "4  2016-08-27           0.00\n",
      "5  2016-08-28           0.01\n",
      "6  2016-08-29           0.00\n",
      "7  2016-08-30           0.00\n",
      "8  2016-08-31           0.13\n",
      "9  2016-09-01           0.00\n",
      "\n",
      "df after set_index:            Percipitation\n",
      "Date                     \n",
      "2016-08-23           0.00\n",
      "2016-08-24           0.08\n",
      "2016-08-25           0.08\n",
      "2016-08-26           0.00\n",
      "2016-08-27           0.00\n",
      "2016-08-28           0.01\n",
      "2016-08-29           0.00\n",
      "2016-08-30           0.00\n",
      "2016-08-31           0.13\n",
      "2016-09-01           0.00\n",
      "\n"
     ]
    },
    {
     "ename": "AttributeError",
     "evalue": "module 'matplotlib.pyplot' has no attribute 'set_xlabel'",
     "output_type": "error",
     "traceback": [
      "\u001b[1;31m---------------------------------------------------------------------------\u001b[0m",
      "\u001b[1;31mAttributeError\u001b[0m                            Traceback (most recent call last)",
      "\u001b[1;32mC:\\Users\\BZNORT~1\\AppData\\Local\\Temp/ipykernel_29808/4195988924.py\u001b[0m in \u001b[0;36m<module>\u001b[1;34m\u001b[0m\n\u001b[0;32m     50\u001b[0m x_labels = [108300.0, 110540.0, 112780.0, 115020.0, 117260.0, 119500.0, \n\u001b[0;32m     51\u001b[0m             121740.0, 123980.0, 126220.0, 128460.0, 130700.0]\n\u001b[1;32m---> 52\u001b[1;33m \u001b[0mplt\u001b[0m\u001b[1;33m.\u001b[0m\u001b[0mset_xlabel\u001b[0m\u001b[1;33m(\u001b[0m\u001b[1;34m'Amount ($)'\u001b[0m\u001b[1;33m)\u001b[0m\u001b[1;33m\u001b[0m\u001b[1;33m\u001b[0m\u001b[0m\n\u001b[0m\u001b[0;32m     53\u001b[0m \u001b[1;33m\u001b[0m\u001b[0m\n\u001b[0;32m     54\u001b[0m \u001b[0mplt\u001b[0m\u001b[1;33m.\u001b[0m\u001b[0mtight_layout\u001b[0m\u001b[1;33m(\u001b[0m\u001b[1;33m)\u001b[0m\u001b[1;33m\u001b[0m\u001b[1;33m\u001b[0m\u001b[0m\n",
      "\u001b[1;31mAttributeError\u001b[0m: module 'matplotlib.pyplot' has no attribute 'set_xlabel'"
     ]
    },
    {
     "data": {
      "image/png": "[encoded data removed]",
      "text/plain": [
       "<Figure size 432x288 with 1 Axes>"
      ]
     },
     "metadata": {},
     "output_type": "display_data"
    }
   ],
   "source": [
    "# Design a query to retrieve the last 12 months of precipitation data and plot the results. \n",
    "# Starting from the most recent data point in the database. \n",
    "\n",
    "# results = session.query(M.date, M.tobs, M.id, M.station, M.prcp).\\\n",
    "#     order_by(M.date.desc()).all()\n",
    "# Unpack `date` and 'percipitation' from results and save into separate list\n",
    "# dates = [result[0] for result in results[:10]]\n",
    "# percip = [result[4] for result in results[:10]]\n",
    "# results = session.query(M.date, M.tobs, M.id, M.station, M.prcp).all()\n",
    "# # print(len(results))\n",
    "# print(\"len(results): \", len(results))\n",
    "\n",
    "\n",
    "# Perform a query to retrieve the data and precipitation scores\n",
    "date_prcp = session.query(M.date, M.prcp).\\\n",
    "    filter(M.date >= min_date).limit(10).all()\n",
    "\n",
    "date = [date_prcp[0] for date_prcp in date_prcp]\n",
    "prcp = [date_prcp[1] for date_prcp in date_prcp]\n",
    "\n",
    "print(f'date_prcp: {date_prcp}')\n",
    "print()\n",
    "print()\n",
    "print(f'date: {date}')\n",
    "print()\n",
    "print()\n",
    "print(f'prcp: {prcp}')\n",
    "print()\n",
    "print()\n",
    "\n",
    "\n",
    "# Save the query results as a Pandas DataFrame and set the index to the date column\n",
    "df = pd.DataFrame(date_prcp, columns=['Date', 'Percipitation'])\n",
    "print(f'df:{df}')\n",
    "print()\n",
    "\n",
    "df.set_index('Date', inplace=True)\n",
    "print(f'df after set_index:{df}')\n",
    "print()\n",
    "\n",
    "# Sort the dataframe by date\n",
    "# df.sort_values(by='Date', ascending=False)\n",
    "# print('df after sort by date: ')\n",
    "# print(df)\n",
    "# print()\n",
    "\n",
    "df.plot.bar()\n",
    "# ax.set_xticklabels(map(line_format, df.index))\n",
    "\n",
    "x_labels = [108300.0, 110540.0, 112780.0, 115020.0, 117260.0, 119500.0, \n",
    "            121740.0, 123980.0, 126220.0, 128460.0, 130700.0]\n",
    "plt.set_xlabel('Amount ($)')\n",
    "\n",
    "plt.tight_layout()\n",
    "plt.show()\n",
    "\n",
    "# Use Pandas Plotting with Matplotlib to plot the data\n",
    "# Found Lesson 10.3.3 helpful for this part (03-Stu_Dates)\n",
    "# # Plot the Results in a Matplotlib bar chart\n",
    "# df = pd.DataFrame(may_averages, columns=['stock', 'open_avg', 'high_avg', 'low_avg', 'close_avg'])\n",
    "# df.set_index('stock', inplace=True)\n",
    "# df.plot.bar()\n",
    "# plt.tight_layout()\n",
    "# plt.show()\n"
   ]
  },
  {
   "cell_type": "code",
   "execution_count": 11,
   "metadata": {},
   "outputs": [],
   "source": [
    "# Use Pandas to calcualte the summary statistics for the precipitation data\n"
   ]
  },
  {
   "cell_type": "markdown",
   "metadata": {},
   "source": [
    "# Exploratory Station Analysis"
   ]
  },
  {
   "cell_type": "code",
   "execution_count": 12,
   "metadata": {},
   "outputs": [],
   "source": [
    "# Design a query to calculate the total number stations in the dataset\n"
   ]
  },
  {
   "cell_type": "code",
   "execution_count": 13,
   "metadata": {},
   "outputs": [],
   "source": [
    "# Design a query to find the most active stations (i.e. what stations have the most rows?)\n",
    "# List the stations and the counts in descending order.\n"
   ]
  },
  {
   "cell_type": "code",
   "execution_count": 14,
   "metadata": {},
   "outputs": [],
   "source": [
    "# Using the most active station id from the previous query, calculate the lowest, highest, and average temperature.\n"
   ]
  },
  {
   "cell_type": "code",
   "execution_count": 15,
   "metadata": {},
   "outputs": [],
   "source": [
    "# Using the most active station id\n",
    "# Query the last 12 months of temperature observation data for this station and plot the results as a histogram\n"
   ]
  },
  {
   "cell_type": "markdown",
   "metadata": {},
   "source": [
    "# Close session"
   ]
  },
  {
   "cell_type": "code",
   "execution_count": 35,
   "metadata": {},
   "outputs": [],
   "source": [
    "# Close Session\n",
    "session.close()"
   ]
  },
  {
   "cell_type": "code",
   "execution_count": null,
   "metadata": {},
   "outputs": [],
   "source": []
  }
 ],
 "metadata": {
  "anaconda-cloud": {},
  "kernel_info": {
   "name": "python3"
  },
  "kernelspec": {
   "display_name": "Python 3 (ipykernel)",
   "language": "python",
   "name": "python3"
  },
  "language_info": {
   "codemirror_mode": {
    "name": "ipython",
    "version": 3
   },
   "file_extension": ".py",
   "mimetype": "text/x-python",
   "name": "python",
   "nbconvert_exporter": "python",
   "pygments_lexer": "ipython3",
   "version": "3.9.7"
  },
  "nteract": {
   "version": "0.12.3"
  },
  "varInspector": {
   "cols": {
    "lenName": 16,
    "lenType": 16,
    "lenVar": 40
   },
   "kernels_config": {
    "python": {
     "delete_cmd_postfix": "",
     "delete_cmd_prefix": "del ",
     "library": "var_list.py",
     "varRefreshCmd": "print(var_dic_list())"
    },
    "r": {
     "delete_cmd_postfix": ") ",
     "delete_cmd_prefix": "rm(",
     "library": "var_list.r",
     "varRefreshCmd": "cat(var_dic_list()) "
    }
   },
   "types_to_exclude": [
    "module",
    "function",
    "builtin_function_or_method",
    "instance",
    "_Feature"
   ],
   "window_display": false
  }
 },
 "nbformat": 4,
 "nbformat_minor": 2
}
